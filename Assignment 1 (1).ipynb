{
 "cells": [
  {
   "cell_type": "raw",
   "id": "78695428",
   "metadata": {},
   "source": [
    "1. In the below elements which of them are values or an expression? eg:- values can be integer or string and expressions will be mathematical operators.\n",
    "* \n",
    "'hello'\n",
    "-87.8\n",
    "- \n",
    "/ \n",
    "+\t\n",
    "6 \n",
    "\n",
    "answer:\n",
    "\n",
    "*        :expression \n",
    "'hello'  :value\n",
    "-87.8    :value\n",
    "-        :expression\n",
    "/        :expression\n",
    "+\t     :expression\n",
    "6        :value\n"
   ]
  },
  {
   "cell_type": "raw",
   "id": "8dea8b42",
   "metadata": {},
   "source": [
    "2. What is the difference between string and variable?\n",
    "\n",
    "string: A string is any series of characters that are interpreted literally by a sript.\n",
    " \n",
    "variable: A variable is store of information or data.\n"
   ]
  },
  {
   "cell_type": "raw",
   "id": "c14031b6",
   "metadata": {},
   "source": [
    "3. Describe three different data types.\n",
    "\n",
    "1.Integer:integer is a whole number,positive or negative,without decimals,of unlimited length.\n",
    "2.float:the float type data type represents the floating point number.\n",
    "3.string:string is an immutable sequence data type. it is the sequence of unicode characters wrapped inside single,double,or triple qoutes."
   ]
  },
  {
   "cell_type": "raw",
   "id": "ee02f68f",
   "metadata": {},
   "source": [
    "4. What is an expression made up of? What do all expressions do? \n",
    "An expression is a construct made up of variables,operators , and method invovations which are constructed according to the syntax of the language ,that evaluates to a single value.\n",
    "\n",
    "an expression is a combination of values ,variables,operators,and calls to functions.\n"
   ]
  },
  {
   "cell_type": "raw",
   "id": "72b63c41",
   "metadata": {},
   "source": [
    "5. This assignment statements, like spam = 10. What is the difference between an expression and a statement?\n",
    " \n",
    " Expression is made up of values, containers, and mathematical operators (operands) and the statement is just like a command that a python interpreter executes like print."
   ]
  },
  {
   "cell_type": "raw",
   "id": "2fa33ca7",
   "metadata": {},
   "source": [
    "6. After running the following code, what does the variable bacon contain?\n",
    "bacon = 22\n",
    "bacon + 1\n"
   ]
  },
  {
   "cell_type": "raw",
   "id": "6cc7198e",
   "metadata": {},
   "source": [
    "bacon = 22\n",
    "bacon +1"
   ]
  },
  {
   "cell_type": "raw",
   "id": "fd1d4436",
   "metadata": {},
   "source": [
    "7. What should the values of the following two terms be?\n",
    "'spam' + 'spamspam'\n",
    "'spam' * 3\n"
   ]
  },
  {
   "cell_type": "raw",
   "id": "ef5e4522",
   "metadata": {},
   "source": [
    "'spam'+'spamspam'\n"
   ]
  },
  {
   "cell_type": "raw",
   "id": "d2160ffb",
   "metadata": {},
   "source": [
    "'spam'*3"
   ]
  },
  {
   "cell_type": "raw",
   "id": "6c74dab6",
   "metadata": {},
   "source": [
    "8. Why is eggs a valid variable name while 100 is invalid?\n",
    "variable names cannot begin with a number "
   ]
  },
  {
   "cell_type": "raw",
   "id": "206c1319",
   "metadata": {},
   "source": [
    "9. What three functions can be used to get the integer, floating-point number, or string version of a value?\n",
    "int(),float(),and string() these  functions can be used to get the integer, floating-point number, or string version of a value ."
   ]
  },
  {
   "cell_type": "raw",
   "id": "4db398b5",
   "metadata": {},
   "source": [
    "10. Why does this expression cause an error? How can you fix it?\n",
    "'I have eaten ' + 99 + ' burritos.'\n"
   ]
  },
  {
   "cell_type": "raw",
   "id": "e3037bdf",
   "metadata": {},
   "source": [
    "'I have eaten ' + 99 + ' burritos.'"
   ]
  },
  {
   "cell_type": "raw",
   "id": "a68c6f7c",
   "metadata": {},
   "source": [
    "'I have eaten ' + 99 + ' burritos. ' The expression causes an error because 99 is an integer, and only strings can be concatenated to other strings with the + operator. The correct way is I have eaten ' + str(99) + ' burritos.\n"
   ]
  }
 ],
 "metadata": {
  "kernelspec": {
   "display_name": "Python 3 (ipykernel)",
   "language": "python",
   "name": "python3"
  },
  "language_info": {
   "codemirror_mode": {
    "name": "ipython",
    "version": 3
   },
   "file_extension": ".py",
   "mimetype": "text/x-python",
   "name": "python",
   "nbconvert_exporter": "python",
   "pygments_lexer": "ipython3",
   "version": "3.9.7"
  }
 },
 "nbformat": 4,
 "nbformat_minor": 5
}
